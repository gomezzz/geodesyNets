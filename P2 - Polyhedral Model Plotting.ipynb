{
 "cells": [
  {
   "cell_type": "code",
   "execution_count": 1,
   "metadata": {},
   "outputs": [
    {
     "name": "stderr",
     "output_type": "stream",
     "text": [
      "C:\\Users\\josch\\miniconda3\\envs\\geodesynet\\lib\\site-packages\\pyvista\\themes.py:131: PyVistaDeprecationWarning: use \"dark\" instead of \"night\" theme\n",
      "  warnings.warn('use \"dark\" instead of \"night\" theme', PyVistaDeprecationWarning)\n"
     ]
    },
    {
     "name": "stdout",
     "output_type": "stream",
     "text": [
      "Will use device  cpu\n"
     ]
    },
    {
     "name": "stderr",
     "output_type": "stream",
     "text": [
      "C:\\Users\\josch\\Programming\\geodesyNets\\gravann\\_utils.py:80: UserWarning: Error enabling CUDA. cuda.is_available() returned False. CPU will be used.\n",
      "  warnings.warn(\n"
     ]
    }
   ],
   "source": [
    "import os\n",
    "import torch\n",
    "\n",
    "# Import our module containing helper functions\n",
    "import gravann.polyhedral\n",
    "import matplotlib.pyplot as plt\n",
    "from mpl_toolkits import mplot3d\n",
    "\n",
    "# plotting stuff\n",
    "%matplotlib notebook\n",
    "\n",
    "# Ensure that changes in imported module (gravann most importantly) are autoreloaded\n",
    "%load_ext autoreload\n",
    "%autoreload 2\n",
    "\n",
    "# If possible enable CUDA\n",
    "gravann.enableCUDA()\n",
    "gravann.fixRandomSeeds()\n",
    "device = os.environ[\"TORCH_DEVICE\"]\n",
    "print(\"Will use device \", device)"
   ]
  },
  {
   "cell_type": "markdown",
   "source": [
    "We first chose one of the following samples:\n",
    "\n",
    "    \"eros\", \"bennu\", \"itokawa\", \"churyumov-gerasimenko\", \"planetesimal\", \"torus\", \"bennu_nu\", \"itokawa_nu\", \"planetesimal_nu\""
   ],
   "metadata": {
    "collapsed": false
   }
  },
  {
   "cell_type": "code",
   "execution_count": 3,
   "metadata": {},
   "outputs": [
    {
     "name": "stdout",
     "output_type": "stream",
     "text": [
      "Name of the chosen body:  churyumov-gerasimenko\n"
     ]
    }
   ],
   "source": [
    "sample_name = \"churyumov-gerasimenko\"\n",
    "print(\"Name of the chosen body: \", sample_name)"
   ]
  },
  {
   "cell_type": "markdown",
   "source": [
    "Next, we can plot a comparison between the polyhedral gravity model's labels and the mascon labels:"
   ],
   "metadata": {
    "collapsed": false
   }
  },
  {
   "cell_type": "code",
   "execution_count": 4,
   "metadata": {},
   "outputs": [
    {
     "name": "stdout",
     "output_type": "stream",
     "text": [
      "Sampling points at altitude\n"
     ]
    },
    {
     "ename": "FileNotFoundError",
     "evalue": "[Errno 2] No such file or directory: 'churyumov-gerasimenko'",
     "output_type": "error",
     "traceback": [
      "\u001B[1;31m---------------------------------------------------------------------------\u001B[0m",
      "\u001B[1;31mFileNotFoundError\u001B[0m                         Traceback (most recent call last)",
      "Cell \u001B[1;32mIn[4], line 1\u001B[0m\n\u001B[1;32m----> 1\u001B[0m \u001B[43mgravann\u001B[49m\u001B[38;5;241;43m.\u001B[39;49m\u001B[43mpolyhedral\u001B[49m\u001B[38;5;241;43m.\u001B[39;49m\u001B[43mplot_polyhedral_mascon_acceleration\u001B[49m\u001B[43m(\u001B[49m\u001B[43msample_name\u001B[49m\u001B[43m,\u001B[49m\n\u001B[0;32m      2\u001B[0m \u001B[43m                                                       \u001B[49m\u001B[43mplane\u001B[49m\u001B[38;5;241;43m=\u001B[39;49m\u001B[38;5;124;43m\"\u001B[39;49m\u001B[38;5;124;43mXY\u001B[39;49m\u001B[38;5;124;43m\"\u001B[39;49m\u001B[43m,\u001B[49m\n\u001B[0;32m      3\u001B[0m \u001B[43m                                                       \u001B[49m\u001B[43mN\u001B[49m\u001B[38;5;241;43m=\u001B[39;49m\u001B[38;5;241;43m1000\u001B[39;49m\u001B[43m,\u001B[49m\n\u001B[0;32m      4\u001B[0m \u001B[43m                                                       \u001B[49m\u001B[43mlogscale\u001B[49m\u001B[38;5;241;43m=\u001B[39;49m\u001B[38;5;28;43;01mFalse\u001B[39;49;00m\u001B[43m,\u001B[49m\n\u001B[0;32m      5\u001B[0m \u001B[43m                                                       \u001B[49m\u001B[43maltitude\u001B[49m\u001B[38;5;241;43m=\u001B[39;49m\u001B[38;5;241;43m0.001\u001B[39;49m\u001B[43m)\u001B[49m\n",
      "File \u001B[1;32m~\\Programming\\geodesyNets\\gravann\\polyhedral\\_plots_polyhedral_model.py:36\u001B[0m, in \u001B[0;36mplot_polyhedral_mascon_acceleration\u001B[1;34m(sample, plane, altitude, save_path, N, logscale)\u001B[0m\n\u001B[0;32m     33\u001B[0m mascon_points, mascon_masses \u001B[38;5;241m=\u001B[39m load_mascon_data(sample)\n\u001B[0;32m     35\u001B[0m \u001B[38;5;28mprint\u001B[39m(\u001B[38;5;124m\"\u001B[39m\u001B[38;5;124mSampling points at altitude\u001B[39m\u001B[38;5;124m\"\u001B[39m)\n\u001B[1;32m---> 36\u001B[0m points \u001B[38;5;241m=\u001B[39m \u001B[43mget_target_point_sampler\u001B[49m\u001B[43m(\u001B[49m\u001B[43mN\u001B[49m\u001B[43m,\u001B[49m\u001B[43m \u001B[49m\u001B[43mmethod\u001B[49m\u001B[38;5;241;43m=\u001B[39;49m\u001B[38;5;124;43m\"\u001B[39;49m\u001B[38;5;124;43maltitude\u001B[39;49m\u001B[38;5;124;43m\"\u001B[39;49m\u001B[43m,\u001B[49m\u001B[43m \u001B[49m\u001B[43mbounds\u001B[49m\u001B[38;5;241;43m=\u001B[39;49m\u001B[43m[\u001B[49m\n\u001B[0;32m     37\u001B[0m \u001B[43m    \u001B[49m\u001B[43maltitude\u001B[49m\u001B[43m]\u001B[49m\u001B[43m,\u001B[49m\u001B[43m \u001B[49m\u001B[43mlimit_shape_to_asteroid\u001B[49m\u001B[38;5;241;43m=\u001B[39;49m\u001B[43msample\u001B[49m\u001B[43m,\u001B[49m\u001B[43m \u001B[49m\u001B[43mreplace\u001B[49m\u001B[38;5;241;43m=\u001B[39;49m\u001B[38;5;28;43;01mFalse\u001B[39;49;00m\u001B[43m)\u001B[49m()\n\u001B[0;32m     39\u001B[0m \u001B[38;5;28mprint\u001B[39m(\u001B[38;5;124m\"\u001B[39m\u001B[38;5;124mGot \u001B[39m\u001B[38;5;124m\"\u001B[39m, \u001B[38;5;28mlen\u001B[39m(points), \u001B[38;5;124m\"\u001B[39m\u001B[38;5;124m points.\u001B[39m\u001B[38;5;124m\"\u001B[39m)\n\u001B[0;32m     40\u001B[0m \u001B[38;5;28;01mif\u001B[39;00m plane \u001B[38;5;241m==\u001B[39m \u001B[38;5;124m\"\u001B[39m\u001B[38;5;124mXY\u001B[39m\u001B[38;5;124m\"\u001B[39m:\n",
      "File \u001B[1;32m~\\Programming\\geodesyNets\\gravann\\_sample_observation_points.py:50\u001B[0m, in \u001B[0;36mget_target_point_sampler\u001B[1;34m(N, method, bounds, limit_shape_to_asteroid, replace, seed)\u001B[0m\n\u001B[0;32m     47\u001B[0m \u001B[38;5;66;03m# Create domain limiter if passed\u001B[39;00m\n\u001B[0;32m     48\u001B[0m \u001B[38;5;28;01melse\u001B[39;00m:\n\u001B[0;32m     49\u001B[0m     \u001B[38;5;28;01mif\u001B[39;00m method \u001B[38;5;241m==\u001B[39m \u001B[38;5;124m\"\u001B[39m\u001B[38;5;124maltitude\u001B[39m\u001B[38;5;124m\"\u001B[39m:\n\u001B[1;32m---> 50\u001B[0m         \u001B[38;5;28;01mreturn\u001B[39;00m \u001B[43m_get_altitude_sampler\u001B[49m\u001B[43m(\u001B[49m\u001B[43mN\u001B[49m\u001B[43m,\u001B[49m\u001B[43m \u001B[49m\u001B[43mbounds\u001B[49m\u001B[43m[\u001B[49m\u001B[38;5;241;43m0\u001B[39;49m\u001B[43m]\u001B[49m\u001B[43m,\u001B[49m\u001B[43m \u001B[49m\u001B[43mlimit_shape_to_asteroid\u001B[49m\u001B[43m,\u001B[49m\u001B[43m \u001B[49m\u001B[43mreplace\u001B[49m\u001B[38;5;241;43m=\u001B[39;49m\u001B[43mreplace\u001B[49m\u001B[43m,\u001B[49m\u001B[43m \u001B[49m\u001B[43mseed\u001B[49m\u001B[38;5;241;43m=\u001B[39;49m\u001B[43mseed\u001B[49m\u001B[43m)\u001B[49m\n\u001B[0;32m     51\u001B[0m     \u001B[38;5;28;01melif\u001B[39;00m method \u001B[38;5;241m==\u001B[39m \u001B[38;5;124m\"\u001B[39m\u001B[38;5;124mradial_projection\u001B[39m\u001B[38;5;124m\"\u001B[39m:\n\u001B[0;32m     52\u001B[0m         \u001B[38;5;28;01mreturn\u001B[39;00m \u001B[38;5;28;01mlambda\u001B[39;00m: _get_radial_projection_sampler(N, altitude\u001B[38;5;241m=\u001B[39mbounds,\n\u001B[0;32m     53\u001B[0m                                                       limit_shape_to_asteroid\u001B[38;5;241m=\u001B[39mlimit_shape_to_asteroid)\n",
      "File \u001B[1;32m~\\Programming\\geodesyNets\\gravann\\_sample_observation_points.py:135\u001B[0m, in \u001B[0;36m_get_altitude_sampler\u001B[1;34m(N, altitude, limit_shape_to_asteroid, plot_normals, discard_points_inside, replace, seed)\u001B[0m\n\u001B[0;32m    117\u001B[0m \u001B[38;5;124;03m\"\"\"This creates a sampler that samples from the triangle centers of the passed mesh + their normal\u001B[39;00m\n\u001B[0;32m    118\u001B[0m \n\u001B[0;32m    119\u001B[0m \u001B[38;5;124;03mArgs:\u001B[39;00m\n\u001B[1;32m   (...)\u001B[0m\n\u001B[0;32m    130\u001B[0m \u001B[38;5;124;03m    func: sampler function\u001B[39;00m\n\u001B[0;32m    131\u001B[0m \u001B[38;5;124;03m\"\"\"\u001B[39;00m\n\u001B[0;32m    132\u001B[0m \u001B[38;5;66;03m# print(\"Sampling \", limit_shape_to_asteroid, \" at altitude=\", altitude)\u001B[39;00m\n\u001B[0;32m    133\u001B[0m \n\u001B[0;32m    134\u001B[0m \u001B[38;5;66;03m# Load asteroid triangles\u001B[39;00m\n\u001B[1;32m--> 135\u001B[0m \u001B[38;5;28;01mwith\u001B[39;00m \u001B[38;5;28;43mopen\u001B[39;49m\u001B[43m(\u001B[49m\u001B[43mlimit_shape_to_asteroid\u001B[49m\u001B[43m,\u001B[49m\u001B[43m \u001B[49m\u001B[38;5;124;43m\"\u001B[39;49m\u001B[38;5;124;43mrb\u001B[39;49m\u001B[38;5;124;43m\"\u001B[39;49m\u001B[43m)\u001B[49m \u001B[38;5;28;01mas\u001B[39;00m file:\n\u001B[0;32m    136\u001B[0m     mesh_vertices, mesh_triangles \u001B[38;5;241m=\u001B[39m pk\u001B[38;5;241m.\u001B[39mload(file)\n\u001B[0;32m    137\u001B[0m     mesh_faces \u001B[38;5;241m=\u001B[39m [[\u001B[38;5;241m3\u001B[39m, t[\u001B[38;5;241m0\u001B[39m], t[\u001B[38;5;241m1\u001B[39m], t[\u001B[38;5;241m2\u001B[39m]] \u001B[38;5;28;01mfor\u001B[39;00m t \u001B[38;5;129;01min\u001B[39;00m mesh_triangles]\n",
      "\u001B[1;31mFileNotFoundError\u001B[0m: [Errno 2] No such file or directory: 'churyumov-gerasimenko'"
     ]
    }
   ],
   "source": [
    "gravann.polyhedral.plot_polyhedral_mascon_acceleration(sample_name,\n",
    "                                                       plane=\"XY\",\n",
    "                                                       N=1000,\n",
    "                                                       logscale=False,\n",
    "                                                       altitude=0.001)"
   ]
  },
  {
   "cell_type": "code",
   "execution_count": null,
   "metadata": {},
   "outputs": [],
   "source": []
  }
 ],
 "metadata": {
  "kernelspec": {
   "display_name": "Python 3 (ipykernel)",
   "language": "python",
   "name": "python3"
  },
  "language_info": {
   "codemirror_mode": {
    "name": "ipython",
    "version": 3
   },
   "file_extension": ".py",
   "mimetype": "text/x-python",
   "name": "python",
   "nbconvert_exporter": "python",
   "pygments_lexer": "ipython3",
   "version": "3.8.13"
  }
 },
 "nbformat": 4,
 "nbformat_minor": 1
}
