{
 "cells": [
  {
   "cell_type": "markdown",
   "source": [
    "# Noise on spacecrafts\n",
    "\n",
    "Before, we'll start. The imports and some preparation."
   ],
   "metadata": {
    "collapsed": false
   }
  },
  {
   "cell_type": "code",
   "execution_count": 1,
   "outputs": [],
   "source": [
    "from gravann.util import get_target_point_sampler\n",
    "from gravann.labels import binder as label_binder\n",
    "from gravann.functions import unit_conversion as unit_converter\n",
    "from gravann.util.constants import BODY_SEMI_MAJOR_AXIS, SPEED_OF_LIGHT, SOLAR_CONSTANT\n",
    "\n",
    "import numpy as np\n",
    "import torch\n",
    "\n",
    "# churyumov-gerasimenko, eros, bennu ...\n",
    "SAMPLE = \"churyumov-gerasimenko\"\n",
    "\n",
    "acc_fn = label_binder.bind_label(\"polyhedral\", sample=SAMPLE)"
   ],
   "metadata": {
    "collapsed": false
   }
  },
  {
   "cell_type": "markdown",
   "source": [
    "This notebook explores the effects of solar radiation pressure (SRP) on the acceleration of a spacecraft. Further, it calculates a suitable Gaussian noise representing distributions of an accelerometers.\n",
    "\n",
    "## Gaussian Noise - Gradiometer Inprecision\n",
    "\n",
    "Let's first use inaccuracy. The [GOCE](https://en.wikipedia.org/wiki/Gravity_Field_and_Steady-State_Ocean_Circulation_Explorer#cite_note-home-7) mission used a \"highly sensitive gravity gradiometer consisting of three pairs of accelerometers which measured gravitational gradients along three orthogonal axes.\" It was designed to determine gravity-field anomalies with a precision of up to\n",
    "$$\n",
    "10^{-5} \\frac{m}{s^2} = 1 mGal\n",
    "$$\n",
    "\n",
    "If we have a look at our two examples Eros and Churyumov–Gerasimenko, we'll have the following conversion factors and acceleration magnitudes.\n",
    "\n",
    "Let's start with some reasonable altitudes (from the surface of course):"
   ],
   "metadata": {
    "collapsed": false
   }
  },
  {
   "cell_type": "code",
   "execution_count": 2,
   "outputs": [
    {
     "name": "stdout",
     "output_type": "stream",
     "text": [
      "tensor([[-0.5028,  0.6385,  0.1428],\n",
      "        [-0.3490,  1.2492,  0.2721],\n",
      "        [-0.7257,  1.6392,  0.3664],\n",
      "        [-0.4965,  1.5836, -5.2992]], dtype=torch.float64)\n"
     ]
    }
   ],
   "source": [
    "altitudes_norm = np.array([0.1, 0.5, 1.0, 5.0])\n",
    "altitudes_real = unit_converter.convert_altitude(SAMPLE, altitudes_norm) / 1000.0\n",
    "\n",
    "points = []\n",
    "for alt in altitudes_norm:\n",
    "    target_sampler = get_target_point_sampler(\n",
    "        N=1, method=\"altitude\", bounds=[alt],\n",
    "        limit_shape_to_asteroid=f\"./3dmeshes/{SAMPLE}.pk\", seed=42\n",
    "    )\n",
    "    p = target_sampler()\n",
    "    points.append(p)\n",
    "points = torch.concatenate(points)\n",
    "print(points)"
   ],
   "metadata": {
    "collapsed": false
   }
  },
  {
   "cell_type": "markdown",
   "source": [
    "Now, we calculate the acceleration at these points:"
   ],
   "metadata": {
    "collapsed": false
   }
  },
  {
   "cell_type": "code",
   "execution_count": 3,
   "outputs": [],
   "source": [
    "acc_norm = acc_fn(points)\n",
    "acc_real = unit_converter.convert_acceleration(SAMPLE, acc_norm)"
   ],
   "metadata": {
    "collapsed": false
   }
  },
  {
   "cell_type": "code",
   "execution_count": 4,
   "outputs": [
    {
     "name": "stdout",
     "output_type": "stream",
     "text": [
      "-----------NORMALIZED-----------\n",
      "The acceleration at normalized altitudes [0.1 0.5 1.  5. ]:\n",
      "tensor([[ 1.5940, -1.0660, -0.5360],\n",
      "        [ 0.1861, -0.6291, -0.1557],\n",
      "        [ 0.1342, -0.2840, -0.0687],\n",
      "        [ 0.0029, -0.0091,  0.0309]])\n",
      "-----------REAL-----------\n",
      "The acceleration at real altitudes [ 0.31266064  1.56330322  3.12660645 15.63303223] [km] in [m/s^2]:\n",
      "tensor([[ 1.0863e-04, -7.2650e-05, -3.6532e-05],\n",
      "        [ 1.2682e-05, -4.2875e-05, -1.0610e-05],\n",
      "        [ 9.1477e-06, -1.9356e-05, -4.6852e-06],\n",
      "        [ 1.9680e-07, -6.2271e-07,  2.1026e-06]])\n"
     ]
    }
   ],
   "source": [
    "print(f\"-----------NORMALIZED-----------\")\n",
    "print(f\"The acceleration at normalized altitudes {altitudes_norm}:\")\n",
    "print(acc_norm)\n",
    "print(f\"-----------REAL-----------\")\n",
    "print(f\"The acceleration at real altitudes {altitudes_real} [km] in [m/s^2]:\")\n",
    "print(acc_real)"
   ],
   "metadata": {
    "collapsed": false
   }
  },
  {
   "cell_type": "markdown",
   "source": [
    "As we can see, the acceleration from 1.5 kilometers onward are the in the order of magnitude of the gradiometer's precision. So assuming a certain deviation is reasonable. We model this by adding gaussian noise to the calculated acceleration label for training simulating in-precisions.\n",
    "\n",
    "But what are reasonable Gaussain parameters?\n",
    "\n",
    "If we have a look at the values above we can simply \"calculate backwards\"."
   ],
   "metadata": {
    "collapsed": false
   }
  },
  {
   "cell_type": "code",
   "execution_count": 12,
   "outputs": [
    {
     "name": "stdout",
     "output_type": "stream",
     "text": [
      "Standard deviation for training: 0.1467314213514328\n"
     ]
    }
   ],
   "source": [
    "gaussian_std_real = torch.tensor(1e-5)\n",
    "gaussian_std_normal = unit_converter.convert_acceleration(SAMPLE, gaussian_std_real, False)\n",
    "print(f\"Standard deviation for training: {gaussian_std_normal}\")"
   ],
   "metadata": {
    "collapsed": false
   }
  },
  {
   "cell_type": "markdown",
   "source": [
    "## Excurs - Transform accelereation to normalized units\n",
    "\n",
    "$$\n",
    "10^{-5} \\frac{m}{s^2} = 1 \\; mGal\n",
    "$$ should be transformed to normalized units for `churyumov-gerasimenko`. We can do this by using the following formula:\n",
    "\n",
    "Mass:\n",
    "$$9.982 \\cdot 10^{12} \\; kg$$\n",
    "1 Unit:\n",
    "$$3126.6064453124995 \\; m$$\n",
    "Gravity Constant:\n",
    "$$6.67430 \\cdot 10^{-11} \\; \\frac{m^3}{kg \\cdot s^2}$$\n",
    "\n",
    "==> Conversion Factor from unitless to real:\n",
    "$$\n",
    "m \\cdot G \\; / \\; unit2metric^{2} = 9.982 \\cdot 10^{12} \\cdot 6.67430 \\cdot 10^{-11} / 3126.6^2 = 0.000068151724 \\\\\n",
    "\n",
    "kg \\cdot \\frac{m^3}{kg \\; s^2} / m^2 = \\frac{kg \\; m^3 }{kg \\; s^2 \\; m^2} = \\frac{m}{s^2}\n",
    "\n",
    "$$\n",
    "\n",
    "==> Transformation from real to unitless:\n",
    "$$\n",
    "\\frac{10^{-5} \\; \\frac{m}{s^2}}{0.000068151724 \\; \\frac{m}{s^2}} = 0.1467314311814034227512718533723372867280657492978460823676302011...\n",
    "$$"
   ],
   "metadata": {
    "collapsed": false
   }
  },
  {
   "cell_type": "markdown",
   "source": [
    "## Constant Bias - Solar Radiation Pressure\n",
    "\n",
    "This probably a bit simplified, but assuming our spacecraft is always facing in the same way to the sun with the maximal cross-section and the asteroid does not reflect a lot. If so, we assume that just one cartesian vector component is affected by the Bias.\n",
    "We calculate the solar radiation pressure $P$, as shown below:\n",
    "\n",
    "$$\n",
    "P = \\frac{G_{SC}}{c \\cdot R^2}\n",
    "$$\n",
    "\n",
    "with the solar constant $G_{SC}$, the speed of light $c$, the distance in astronomical units $R$.\n",
    "In the following:\n",
    "$$\n",
    "S_0 = 1361 \\; \\frac{W}{m^2} \\\\\n",
    "c = 299\\;792\\;458 \\; \\frac{m}{s} \\\\\n",
    "1 \\; AU = 149\\,597\\,870\\,700\\; m\n",
    "$$\n",
    "\n",
    "Reference: [Solar constant 2015](https://de.wikipedia.org/wiki/Solarkonstante)\n",
    "\n",
    "With this knowledge. We can calculate the pressure for an arbitrary distance in $Pa = \\frac{N}{m^2}$:"
   ],
   "metadata": {
    "collapsed": false
   }
  },
  {
   "cell_type": "code",
   "execution_count": 2,
   "outputs": [
    {
     "name": "stdout",
     "output_type": "stream",
     "text": [
      "Solar radiation pressure: 0.37860173912525674 micro Pa\n"
     ]
    }
   ],
   "source": [
    "solar_radiation_pressure = SOLAR_CONSTANT / (SPEED_OF_LIGHT * (BODY_SEMI_MAJOR_AXIS[SAMPLE] ** 2))\n",
    "# if fully reflective\n",
    "# solar_radiation_pressure *= 2.0\n",
    "print(f\"Solar radiation pressure: {solar_radiation_pressure * 1e6} micro Pa\")"
   ],
   "metadata": {
    "collapsed": false
   }
  },
  {
   "cell_type": "markdown",
   "source": [
    "Assuming spacecraft [Rosetta](https://www.esa.int/Enabling_Support/Operations/Rosetta):\n",
    "The main box 2.8 x 2.1 x 2.0 metres in size. Each \"wing\": 32 $m^2$.\n",
    "\n",
    "Mass: 1230 kg (Orbiter Dry Mass), 165 kg (Orbiter Payload), 27 kg (Lander)\n",
    "(We neglect propellant for since there is no \"quick\" data, lauch mass was 3000 kg)\n",
    "\n",
    "Alternatively, we assume a cubesat with the edge lengths of 11 cm and a weight of 0.4 kg.\n",
    "\n",
    "The solar panels are probably facing the sun. So, we have a maximal size of"
   ],
   "metadata": {
    "collapsed": false
   }
  },
  {
   "cell_type": "code",
   "execution_count": 5,
   "outputs": [
    {
     "name": "stdout",
     "output_type": "stream",
     "text": [
      "Max cross-section: 0.0121 m^2\n",
      "Mass: 0.5 kg\n"
     ]
    }
   ],
   "source": [
    "max_cross_section = 2.8 * 2.1 + 2 * 32\n",
    "max_cross_section = 0.11 * 0.11\n",
    "print(f\"Max cross-section: {max_cross_section} m^2\")\n",
    "# mass = 1230.0 + 165.0 + 27.0\n",
    "mass = 0.5\n",
    "print(f\"Mass: {mass} kg\")"
   ],
   "metadata": {
    "collapsed": false
   }
  },
  {
   "cell_type": "markdown",
   "source": [
    "Ergo, the force on the spacecraft is $F = m \\cdot a <==> a = F/m <==> a = (P * A) / m$"
   ],
   "metadata": {
    "collapsed": false
   }
  },
  {
   "cell_type": "code",
   "execution_count": 6,
   "outputs": [
    {
     "name": "stdout",
     "output_type": "stream",
     "text": [
      "The acceleration affecting the spacecraft: 9.162162086831213e-09 m/s^2\n"
     ]
    }
   ],
   "source": [
    "solar_acc_real = (solar_radiation_pressure * max_cross_section) / mass\n",
    "print(f\"The acceleration affecting the spacecraft: {solar_acc_real} m/s^2\")"
   ],
   "metadata": {
    "collapsed": false
   }
  },
  {
   "cell_type": "markdown",
   "source": [
    "Suitable constant bias by calculating backwards:"
   ],
   "metadata": {
    "collapsed": false
   }
  },
  {
   "cell_type": "code",
   "execution_count": 7,
   "outputs": [
    {
     "name": "stdout",
     "output_type": "stream",
     "text": [
      "Constant bias: 0.00013443770876619965\n"
     ]
    }
   ],
   "source": [
    "solar_acc_normalized = unit_converter.convert_acceleration(SAMPLE, torch.tensor(solar_acc_real), False)\n",
    "print(f\"Constant bias: {solar_acc_normalized}\")\n",
    "\n",
    "# Rosetta: 0.000272\n",
    "# CubeSat: 0.000134"
   ],
   "metadata": {
    "collapsed": false
   }
  },
  {
   "cell_type": "markdown",
   "source": [
    "## Proposed next steps\n",
    "\n",
    "Train with the following parameters:\n",
    "```\n",
    "# Base: To get solid results and decrease std\n",
    "SEED = [3, 7, 9, 37, 42, 67, 99, 433, 1999, 2023, ...]\n",
    "# RQ 3: Effects of (realistic amounts of) noise?\n",
    "NOISE = [\n",
    "    GAUSSIAN with mean = 0.0, std = see above --> x2 assume twice in-precision?, sore more for robustness test?\n",
    "    CONSTANT BIAS with [see above, 0.0, 0.0] --> x2 for fully reflective case?, some more for robustness test?\n",
    "    COMBINE both types?\n",
    "    NONE\n",
    "]\n",
    "BODIES = [\n",
    "    churyumov-gerasimenko\n",
    "    eros\n",
    "]\n",
    "# RQ 1: Obtainable precision and its dependence on the ground truth?\n",
    "METHODS = [\n",
    "    polyhedral\n",
    "    mascon\n",
    "]\n",
    "# RQ 2: Needed for how far/ close does the sampling needs to be?\n",
    "SAMPLING_DISTANCE = [\n",
    "    [0.0, 1.0]\n",
    "    [1.0, 3.0]\n",
    "    [3.0, 5.0]  # 5.0 corresponds to ~ 15 km for churyumov-gerasimenko\n",
    "    # [5.0, 10.0] # NEW? Rosetta's periapsis was 30 km (during normal op), always bad results, not useful for this range, spherical harmonics here\n",
    "]\n",
    "# RQ 4: Case study\n",
    "SAMPLING_METHOD = [\n",
    "    spherical\n",
    "    propagated orbit --> one special case for case study with COMBINED noise? Model rosetta's approach?\n",
    "]\n",
    "\n",
    "# RQ 1 + 2 + 3 + 4 Follow-up? Applicability with pre-trained model?\n",
    "1) Train on low-fidelity mesh for 10 000 iterations with every allowed distance\n",
    "2) Simulate flight/ Only train with high fidelity model with \"a lot of\" distance for less iterations\n",
    "\n",
    "```"
   ],
   "metadata": {
    "collapsed": false
   }
  },
  {
   "cell_type": "code",
   "execution_count": 9,
   "outputs": [],
   "source": [],
   "metadata": {
    "collapsed": false
   }
  }
 ],
 "metadata": {
  "kernelspec": {
   "display_name": "Python 3",
   "language": "python",
   "name": "python3"
  },
  "language_info": {
   "codemirror_mode": {
    "name": "ipython",
    "version": 2
   },
   "file_extension": ".py",
   "mimetype": "text/x-python",
   "name": "python",
   "nbconvert_exporter": "python",
   "pygments_lexer": "ipython2",
   "version": "2.7.6"
  }
 },
 "nbformat": 4,
 "nbformat_minor": 0
}
