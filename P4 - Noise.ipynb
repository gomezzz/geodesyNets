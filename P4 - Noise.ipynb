{
 "cells": [
  {
   "cell_type": "markdown",
   "source": [
    "# Noise on spacecrafts\n",
    "\n",
    "Before, we'll start. The imports and some preparation."
   ],
   "metadata": {
    "collapsed": false
   }
  },
  {
   "cell_type": "code",
   "execution_count": 16,
   "outputs": [],
   "source": [
    "from gravann.util import get_target_point_sampler\n",
    "from gravann.labels import binder as label_binder\n",
    "from gravann.functions import unit_conversion as unit_converter\n",
    "\n",
    "import numpy as np\n",
    "import torch\n",
    "\n",
    "# churyumov-gerasimenko, eros, bennu ...\n",
    "SAMPLE = \"churyumov-gerasimenko\"\n",
    "\n",
    "acc_fn = label_binder.bind_label(\"polyhedral\", sample=SAMPLE)"
   ],
   "metadata": {
    "collapsed": false
   }
  },
  {
   "cell_type": "markdown",
   "source": [
    "This notebook explores the effects of solar radiation pressure (SRP) on the acceleration of a spacecraft. Further, it calculates a suitable Gaussian noise representing distributions of an accelerometers.\n",
    "\n",
    "## Gaussian Noise - Gradiometer Inprecision\n",
    "\n",
    "Let's first use inaccuracy. The [GOCE](https://en.wikipedia.org/wiki/Gravity_Field_and_Steady-State_Ocean_Circulation_Explorer#cite_note-home-7) mission used a \"highly sensitive gravity gradiometer consisting of three pairs of accelerometers which measured gravitational gradients along three orthogonal axes.\" It was designed to determine gravity-field anomalies with a precision of up to\n",
    "$$\n",
    "10^{-5} \\frac{m}{s^2} = 1 mGal\n",
    "$$\n",
    "\n",
    "If we have a look at our two examples Eros and Churyumov–Gerasimenko, we'll have the following conversion factors and acceleration magnitudes.\n",
    "\n",
    "Let's start with some reasonable altitudes (from the surface of course):"
   ],
   "metadata": {
    "collapsed": false
   }
  },
  {
   "cell_type": "code",
   "execution_count": 17,
   "outputs": [
    {
     "name": "stdout",
     "output_type": "stream",
     "text": [
      "tensor([[-0.5028,  0.6385,  0.1428],\n",
      "        [-0.3490,  1.2492,  0.2721],\n",
      "        [-0.7257,  1.6392,  0.3664],\n",
      "        [-0.4965,  1.5836, -5.2992]], dtype=torch.float64)\n"
     ]
    }
   ],
   "source": [
    "altitudes_norm = np.array([0.1, 0.5, 1.0, 5.0])\n",
    "altitudes_real = unit_converter.convert_altitude(SAMPLE, altitudes_norm) / 1000.0\n",
    "\n",
    "points = []\n",
    "for alt in altitudes_norm:\n",
    "    target_sampler = get_target_point_sampler(\n",
    "        N=1, method=\"altitude\", bounds=[alt],\n",
    "        limit_shape_to_asteroid=f\"./3dmeshes/{SAMPLE}.pk\", seed=42\n",
    "    )\n",
    "    p = target_sampler()\n",
    "    points.append(p)\n",
    "points = torch.concatenate(points)\n",
    "print(points)"
   ],
   "metadata": {
    "collapsed": false
   }
  },
  {
   "cell_type": "markdown",
   "source": [
    "Now, we calculate the acceleration at these points:"
   ],
   "metadata": {
    "collapsed": false
   }
  },
  {
   "cell_type": "code",
   "execution_count": 18,
   "outputs": [],
   "source": [
    "acc_norm = acc_fn(points)\n",
    "acc_real = unit_converter.convert_acceleration(SAMPLE, acc_norm)"
   ],
   "metadata": {
    "collapsed": false
   }
  },
  {
   "cell_type": "code",
   "execution_count": 19,
   "outputs": [
    {
     "name": "stdout",
     "output_type": "stream",
     "text": [
      "-----------NORMALIZED-----------\n",
      "The acceleration at normalized altitudes [0.1 0.5 1.  5. ]:\n",
      "tensor([[ 1.5940, -1.0660, -0.5360],\n",
      "        [ 0.1861, -0.6291, -0.1557],\n",
      "        [ 0.1342, -0.2840, -0.0687],\n",
      "        [ 0.0029, -0.0091,  0.0309]])\n",
      "-----------REAL-----------\n",
      "The acceleration at real altitudes [ 0.31266064  1.56330322  3.12660645 15.63303223] [km] in [m/s^2]:\n",
      "tensor([[ 1.0863e-04, -7.2650e-05, -3.6532e-05],\n",
      "        [ 1.2682e-05, -4.2875e-05, -1.0610e-05],\n",
      "        [ 9.1477e-06, -1.9356e-05, -4.6852e-06],\n",
      "        [ 1.9680e-07, -6.2271e-07,  2.1026e-06]])\n"
     ]
    }
   ],
   "source": [
    "print(f\"-----------NORMALIZED-----------\")\n",
    "print(f\"The acceleration at normalized altitudes {altitudes_norm}:\")\n",
    "print(acc_norm)\n",
    "print(f\"-----------REAL-----------\")\n",
    "print(f\"The acceleration at real altitudes {altitudes_real} [km] in [m/s^2]:\")\n",
    "print(acc_real)"
   ],
   "metadata": {
    "collapsed": false
   }
  },
  {
   "cell_type": "markdown",
   "source": [
    "As we can see, the acceleration from 1.5 kilometers onward are the in the order of magnitude of the gradiometer's precision. So assuming a certain deviation is reasonable. We model this by adding gaussian noise to the calculated acceleration label for training simulating in-precisions.\n",
    "\n",
    "But what are reasonable Gaussain parameters?\n",
    "\n",
    "If we have a look at the values above we can simply \"calculate backwards\"."
   ],
   "metadata": {
    "collapsed": false
   }
  },
  {
   "cell_type": "code",
   "execution_count": 20,
   "outputs": [
    {
     "name": "stdout",
     "output_type": "stream",
     "text": [
      "Standard deviation for training: 1.4673142433166504\n"
     ]
    }
   ],
   "source": [
    "gaussian_std_real = torch.tensor(10e-5)\n",
    "gaussian_std_normal = unit_converter.convert_acceleration(SAMPLE, gaussian_std_real, False)\n",
    "print(f\"Standard deviation for training: {gaussian_std_normal}\")"
   ],
   "metadata": {
    "collapsed": false
   }
  },
  {
   "cell_type": "markdown",
   "source": [
    "The experiments, we already did, had the following values:\n",
    "$$\n",
    "\\mu = 0 \\\\\n",
    "\\sigma = 1.0\n",
    "$$\n",
    "\n",
    "The above calculation shows that this was already not that bad, but more noise is reasonable!"
   ],
   "metadata": {
    "collapsed": false
   }
  },
  {
   "cell_type": "markdown",
   "source": [
    "## Constant Bias - Solar Radiation Pressure\n",
    "\n",
    "This probably a bit simplified, but assuming our spacecraft is always facing in the same way to the sun with the maximal cross-section and the asteroid does not reflect a lot. If so, we assume that just one cartesian vector component is affected by the Bias. *Inner Pig-Dog, you sure?*\n",
    "\n",
    "$$\n",
    "P = \\frac{S_0}{c} \\cdot (\\frac{1}{AU}) ^2\n",
    "$$\n",
    "where $S_0$, $c$, $AU$ are a solar constant, a speed of light, and a distance between the sun and the solar sail expressed in an astronomical units."
   ],
   "metadata": {
    "collapsed": false
   }
  },
  {
   "cell_type": "code",
   "execution_count": 20,
   "outputs": [],
   "source": [],
   "metadata": {
    "collapsed": false
   }
  }
 ],
 "metadata": {
  "kernelspec": {
   "display_name": "Python 3",
   "language": "python",
   "name": "python3"
  },
  "language_info": {
   "codemirror_mode": {
    "name": "ipython",
    "version": 2
   },
   "file_extension": ".py",
   "mimetype": "text/x-python",
   "name": "python",
   "nbconvert_exporter": "python",
   "pygments_lexer": "ipython2",
   "version": "2.7.6"
  }
 },
 "nbformat": 4,
 "nbformat_minor": 0
}
