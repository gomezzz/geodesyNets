{
 "cells": [
  {
   "cell_type": "markdown",
   "source": [
    "# Key Findings for Eros and Churyumov-Gerasimenko and Consequences\n",
    "\n",
    "Key Findings of the `total_experiment_*` runs.\n",
    "\n",
    "General nomenclature in-precision:\n",
    "* low-range/ low-height = several 100 m above surface\n",
    "* mid-range/ mid-height = few km above surface\n",
    "* high-range/ high-height = safe(r) distance for satellites (like e.g. Rosetta 30 km periphrasis)\n",
    "\n",
    "## Impact of Sampling Distance\n",
    "\n",
    "#### Academic Range $[0, 1]$\n",
    "\n",
    "##### Without Noise\n",
    "\n",
    "* The Academic Range of $[0, 1]$ for sampling, which corresponds to\n",
    "    * Eros: [0, 20km]\n",
    "    * CG: [0, 3.1 km]\n",
    "* Even close to the surface robust prediction of the acceleration\n",
    "* relRMSE below 5% until 200m above surface level\n",
    "* Macon & Polyhedral Model generally not that different (TODO: significance test?)\n",
    "    * Eros and CG Mascon Model are generated from the same mesh ground truth --> **Take-away:** dependency bias?\n",
    "    * Mascon model \"not that\" different with similar resolution (discretization) based on the surface geometry\n",
    "\n",
    "\n",
    "##### With Noise\n",
    "\n",
    "* Degraded performance. However, it depends on the employed type of noise\n",
    "* Gaussian Noise (weak) representing instrumental in-precision\n",
    "    * Still decent performance even until low height\n",
    "    * **Take-away:** With Ferrari of Accelerometer --> Onboard-training no problemo\n",
    "* Gaussian Noise (strong) representing 10x more in-precision\n",
    "    * For CG: Performance good until mid-height\n",
    "    * For Eros: Performance good until low-height\n",
    "    * Currently, we use instrumental in-precision independent of the gravitational magnitude. Eros is more massive. Thus, the same Gaussian Noise's magnitude is comparably smaller to the real ground truth.\n",
    "    * **Take-away:** Application of worse instruments more suitable for more massive bodies\n",
    "* Constant Bias Noise (representing Solar Radiation Pressure):\n",
    "    * Practically for \"real\" spacecraft always pretty low\n",
    "        * CubeSat: Low due to small area\n",
    "        * Proper Rosetta-Like Satellite: Low due to huge mass\n",
    "    * This experiment was conducted with the Rosetta-style values, but the CubeSat's values are in a similiar magnitude\n",
    "    *\n",
    "\n",
    "\n",
    "## Impact of Noise\n",
    "\n",
    "## No Noise At All\n",
    "\n",
    "-"
   ],
   "metadata": {
    "collapsed": false
   }
  },
  {
   "cell_type": "code",
   "execution_count": null,
   "outputs": [],
   "source": [],
   "metadata": {
    "collapsed": false
   }
  }
 ],
 "metadata": {
  "kernelspec": {
   "display_name": "Python 3",
   "language": "python",
   "name": "python3"
  },
  "language_info": {
   "codemirror_mode": {
    "name": "ipython",
    "version": 2
   },
   "file_extension": ".py",
   "mimetype": "text/x-python",
   "name": "python",
   "nbconvert_exporter": "python",
   "pygments_lexer": "ipython2",
   "version": "2.7.6"
  }
 },
 "nbformat": 4,
 "nbformat_minor": 0
}
