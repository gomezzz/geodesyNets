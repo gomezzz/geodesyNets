{
 "cells": [
  {
   "cell_type": "markdown",
   "source": [
    "# Numerical Integration Precision\n",
    "\n"
   ],
   "metadata": {
    "collapsed": false
   }
  },
  {
   "cell_type": "code",
   "execution_count": 89,
   "outputs": [
    {
     "name": "stdout",
     "output_type": "stream",
     "text": [
      "The autoreload extension is already loaded. To reload it, use:\n",
      "  %reload_ext autoreload\n"
     ]
    }
   ],
   "source": [
    "import numpy as np\n",
    "from pathlib import Path\n",
    "from gravann.functions import error_calculation\n",
    "\n",
    "%matplotlib notebook\n",
    "%load_ext autoreload\n",
    "%autoreload 2"
   ],
   "metadata": {
    "collapsed": false
   }
  },
  {
   "cell_type": "code",
   "execution_count": 90,
   "outputs": [
    {
     "name": "stdout",
     "output_type": "stream",
     "text": [
      "[4.0000e+00 8.0000e+00 1.6000e+01 3.2000e+01 6.4000e+01 1.2800e+02\n",
      " 2.5600e+02 5.1200e+02 1.0240e+03 2.0480e+03 4.0960e+03 8.1920e+03\n",
      " 1.6384e+04 3.2768e+04]\n"
     ]
    }
   ],
   "source": [
    "input_directory_polyhedral = Path(\"F:/results/cg/polyhedral-total-seed-3/churyumov-gerasimenko/polyhedral/it-id-0000\")\n",
    "input_directory_mascon = Path(\"F:/results/cg/polyhedral-total-seed-3/churyumov-gerasimenko/mascon/it-id-0018\")\n",
    "n_integration = np.logspace(2, 15, num=14, base=2)\n",
    "max_bound = 0.5\n",
    "print(n_integration)"
   ],
   "metadata": {
    "collapsed": false
   }
  },
  {
   "cell_type": "code",
   "execution_count": 91,
   "outputs": [
    {
     "name": "stdout",
     "output_type": "stream",
     "text": [
      "[0.9999722242355347, 0.9999722242355347, 15.625801086425781, 15.625801086425781, 4.984458923339844, 2.076094388961792, 3.662520408630371, 1.2088983058929443, 2.0989973545074463, 0.8386054039001465, 0.36257243156433105, 0.2517082095146179, 0.12909522652626038, 0.09886305034160614]\n"
     ]
    }
   ],
   "source": [
    "error_calculation.error_calculation(input_directory_polyhedral, n_integration, max_bound)"
   ],
   "metadata": {
    "collapsed": false
   }
  },
  {
   "cell_type": "code",
   "execution_count": 92,
   "outputs": [
    {
     "name": "stdout",
     "output_type": "stream",
     "text": [
      "[1.0000488758087158, 1.0000488758087158, 11.859614372253418, 11.859614372253418, 2.4917566776275635, 1.133381724357605, 4.392237186431885, 1.094382643699646, 0.8505529165267944, 0.4147407114505768, 0.4607250392436981, 0.21118196845054626, 0.1098935455083847, 0.09181465953588486]\n"
     ]
    }
   ],
   "source": [
    "error_calculation.error_calculation(input_directory_mascon, n_integration, max_bound)"
   ],
   "metadata": {
    "collapsed": false
   }
  },
  {
   "cell_type": "code",
   "execution_count": 92,
   "outputs": [],
   "source": [],
   "metadata": {
    "collapsed": false
   }
  }
 ],
 "metadata": {
  "kernelspec": {
   "display_name": "Python 3",
   "language": "python",
   "name": "python3"
  },
  "language_info": {
   "codemirror_mode": {
    "name": "ipython",
    "version": 2
   },
   "file_extension": ".py",
   "mimetype": "text/x-python",
   "name": "python",
   "nbconvert_exporter": "python",
   "pygments_lexer": "ipython2",
   "version": "2.7.6"
  }
 },
 "nbformat": 4,
 "nbformat_minor": 0
}
