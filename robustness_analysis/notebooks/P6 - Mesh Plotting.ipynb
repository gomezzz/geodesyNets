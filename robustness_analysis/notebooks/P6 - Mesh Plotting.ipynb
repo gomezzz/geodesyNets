{
 "cells": [
  {
   "cell_type": "code",
   "execution_count": 1,
   "metadata": {
    "collapsed": true,
    "ExecuteTime": {
     "start_time": "2023-04-15T16:52:15.547079Z",
     "end_time": "2023-04-15T16:52:18.300695Z"
    }
   },
   "outputs": [],
   "source": [
    "from pathlib import Path\n",
    "from gravann.output import plot_polyhedral_mesh, plot_polyhedral_meshes\n",
    "\n",
    "%load_ext autoreload\n",
    "%autoreload 2"
   ]
  },
  {
   "cell_type": "code",
   "execution_count": 4,
   "outputs": [],
   "source": [
    "plot_polyhedral_meshes(\n",
    "    save_path=Path(\"results/churyumov-gerasimenko_mesh_resolution_plots.png\"),\n",
    "    sample=\"churyumov-gerasimenko\"\n",
    ")"
   ],
   "metadata": {
    "collapsed": false,
    "ExecuteTime": {
     "start_time": "2023-04-15T16:54:02.189542Z",
     "end_time": "2023-04-15T16:54:03.636584Z"
    }
   }
  },
  {
   "cell_type": "code",
   "execution_count": 3,
   "outputs": [],
   "source": [
    "plot_polyhedral_meshes(\n",
    "    save_path=Path(\"results/eros_mesh_resolution_plots.png\"),\n",
    "    sample=\"eros\"\n",
    ")"
   ],
   "metadata": {
    "collapsed": false,
    "ExecuteTime": {
     "start_time": "2023-04-15T16:52:20.730046Z",
     "end_time": "2023-04-15T16:52:22.181351Z"
    }
   }
  },
  {
   "cell_type": "code",
   "execution_count": 3,
   "outputs": [],
   "source": [],
   "metadata": {
    "collapsed": false,
    "ExecuteTime": {
     "start_time": "2023-04-15T16:52:22.181563Z",
     "end_time": "2023-04-15T16:52:22.183055Z"
    }
   }
  }
 ],
 "metadata": {
  "kernelspec": {
   "display_name": "Python 3",
   "language": "python",
   "name": "python3"
  },
  "language_info": {
   "codemirror_mode": {
    "name": "ipython",
    "version": 2
   },
   "file_extension": ".py",
   "mimetype": "text/x-python",
   "name": "python",
   "nbconvert_exporter": "python",
   "pygments_lexer": "ipython2",
   "version": "2.7.6"
  }
 },
 "nbformat": 4,
 "nbformat_minor": 0
}
