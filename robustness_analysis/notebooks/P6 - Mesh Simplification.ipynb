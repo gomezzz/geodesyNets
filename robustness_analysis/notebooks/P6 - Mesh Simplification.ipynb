{
 "cells": [
  {
   "cell_type": "markdown",
   "source": [
    "# Mesh Simplification\n",
    "\n",
    "Imports first:"
   ],
   "metadata": {
    "collapsed": false
   }
  },
  {
   "cell_type": "code",
   "execution_count": 1,
   "outputs": [],
   "source": [
    "from gravann.input import sample_reader\n",
    "import numpy as np\n",
    "# import open3d as o3d\n",
    "import pickle as pk\n",
    "\n",
    "%load_ext autoreload\n",
    "%autoreload 2"
   ],
   "metadata": {
    "collapsed": false,
    "ExecuteTime": {
     "start_time": "2023-04-16T21:01:26.044462Z",
     "end_time": "2023-04-16T21:01:26.864432Z"
    }
   }
  },
  {
   "cell_type": "code",
   "execution_count": 10,
   "outputs": [
    {
     "name": "stdout",
     "output_type": "stream",
     "text": [
      "Vertices: 9\n",
      "Faces: 14\n"
     ]
    }
   ],
   "source": [
    "# churyumov-gerasimenko, eros, ...#\n",
    "SAMPLE = \"churyumov-gerasimenko\"\n",
    "SAMPLE = \"eros\"\n",
    "vertices, triangles = sample_reader.load_polyhedral_mesh(SAMPLE, \"0.1%\")\n",
    "vertices, triangles = np.array(vertices), np.array(triangles)\n",
    "\n",
    "print(f\"Vertices: {len(vertices)}\")\n",
    "print(f\"Faces: {len(triangles)}\")"
   ],
   "metadata": {
    "collapsed": false,
    "ExecuteTime": {
     "start_time": "2023-04-16T21:03:54.932946Z",
     "end_time": "2023-04-16T21:03:54.974063Z"
    }
   }
  },
  {
   "cell_type": "code",
   "execution_count": 52,
   "outputs": [
    {
     "name": "stdout",
     "output_type": "stream",
     "text": [
      "Vertices: 93\n",
      "Faces: 182\n"
     ]
    }
   ],
   "source": [
    "# Very Low Poly Mesh\n",
    "mesh = o3d.geometry.TriangleMesh(vertices=o3d.utility.Vector3dVector(vertices), triangles=o3d.utility.Vector3iVector(triangles))\n",
    "mesh.compute_vertex_normals()\n",
    "# o3d.visualization.draw_geometries([mesh])\n",
    "\n",
    "num_triangles = len(triangles) // 10\n",
    "mesh = mesh.simplify_quadric_decimation(target_number_of_triangles=num_triangles)\n",
    "\n",
    "o3d.visualization.draw_geometries([mesh])\n",
    "\n",
    "print(f\"Vertices: {len(mesh.vertices)}\")\n",
    "print(f\"Faces: {len(mesh.triangles)}\")\n",
    "\n",
    "\n",
    "with open(f\"./3dmeshes/{SAMPLE}_llp.pk\", \"wb+\") as file:\n",
    "    pk.dump((np.array(mesh.vertices).tolist(), np.array(mesh.triangles).tolist()), file)"
   ],
   "metadata": {
    "collapsed": false
   }
  },
  {
   "cell_type": "code",
   "execution_count": 53,
   "outputs": [
    {
     "name": "stdout",
     "output_type": "stream",
     "text": [
      "Vertices: 11\n",
      "Faces: 18\n"
     ]
    }
   ],
   "source": [
    "# Very Very Low Poly Mesh\n",
    "mesh = o3d.geometry.TriangleMesh(vertices=o3d.utility.Vector3dVector(vertices), triangles=o3d.utility.Vector3iVector(triangles))\n",
    "mesh.compute_vertex_normals()\n",
    "# o3d.visualization.draw_geometries([mesh])\n",
    "\n",
    "num_triangles = len(triangles) // 100\n",
    "mesh = mesh.simplify_quadric_decimation(target_number_of_triangles=num_triangles)\n",
    "\n",
    "o3d.visualization.draw_geometries([mesh])\n",
    "\n",
    "print(f\"Vertices: {len(mesh.vertices)}\")\n",
    "print(f\"Faces: {len(mesh.triangles)}\")\n",
    "\n",
    "\n",
    "with open(f\"./3dmeshes/{SAMPLE}_lllp.pk\", \"wb+\") as file:\n",
    "    pk.dump((np.array(mesh.vertices).tolist(), np.array(mesh.triangles).tolist()), file)"
   ],
   "metadata": {
    "collapsed": false
   }
  },
  {
   "cell_type": "code",
   "execution_count": 53,
   "outputs": [],
   "source": [],
   "metadata": {
    "collapsed": false
   }
  }
 ],
 "metadata": {
  "kernelspec": {
   "display_name": "Python 3",
   "language": "python",
   "name": "python3"
  },
  "language_info": {
   "codemirror_mode": {
    "name": "ipython",
    "version": 2
   },
   "file_extension": ".py",
   "mimetype": "text/x-python",
   "name": "python",
   "nbconvert_exporter": "python",
   "pygments_lexer": "ipython2",
   "version": "2.7.6"
  }
 },
 "nbformat": 4,
 "nbformat_minor": 0
}
